{
 "cells": [
  {
   "cell_type": "markdown",
   "metadata": {},
   "source": [
    "# Tutorial Iris Flower"
   ]
  },
  {
   "cell_type": "markdown",
   "metadata": {},
   "source": [
    "Neste tutorial, usaremos um conceito de Machine Learning com a ajuda do ScikitLearn a Machine Learning Package e do conjunto de dados Iris, que podem ser carregados a partir do sklearn. Usarei numpy para trabalhar no conjunto de dados Iris e no Matplotlib para a visualização. Iris data set é um conjunto de dados multivariado introduzido pelo estatístico e biólogo britânico Ronald Fisher em seu artigo de 1936. O uso de múltiplas medições em problemas taxonômicos como um exemplo de análise discriminante linear. O conjunto de dados consiste em 50 amostras de cada uma das três espécies de íris:"
   ]
  },
  {
   "cell_type": "markdown",
   "metadata": {},
   "source": [
    "<ul>\n",
    "  <li>Iris setosa</li>\n",
    "  <li>Iris virginica</li>\n",
    "  <li>Iris versicolor</li>\n",
    "</ul>\n",
    "<img src=\"Tutoriais/images.png\"/>"
   ]
  },
  {
   "cell_type": "markdown",
   "metadata": {},
   "source": [
    "Quatro características foram medidas a partir de cada amostra:\n",
    "\n",
    "<ul>\n",
    "  <li>Comprimento do sepal (cm)</li>\n",
    "  <li>Largura Sépala (cm)</li>\n",
    "  <li>Comprimento da Pétala (cm)</li>\n",
    "  <li>Largura da Pétala (cm)</li>\n",
    "</ul>\n",
    "<img src=\"Tutoriais/images2.png\"/>\n"
   ]
  },
  {
   "cell_type": "markdown",
   "metadata": {},
   "source": [
    "Os conjuntos de dados da íris são os dados básicos do Machine Learning. O objetivo deste tutorial é encontrar as espécies de flor Iris dos dados de teste usando o modelo treinado. Estou usando a árvore de decisão do pacote Python do Sklearn."
   ]
  },
  {
   "cell_type": "markdown",
   "metadata": {},
   "source": [
    "## Importação da Biblioteca e Modulo"
   ]
  },
  {
   "cell_type": "markdown",
   "metadata": {},
   "source": [
    "Primeiro, importacao da biblioteca e o módulo necessários no console do python. Neste aprendizado de máquina, usaremos:"
   ]
  },
  {
   "cell_type": "markdown",
   "metadata": {},
   "source": [
    "Numpy: que fornece suporte para computação numérica mais eficiente\n",
    "\n",
    "Pandas: uma biblioteca conveniente que suporta quadros de dados.\n",
    "\n",
    "Matplotlib & Seaborne: para visualização\n",
    "\n",
    "ScikitLearn: Ferramentas de aprendizado de máquina"
   ]
  },
  {
   "cell_type": "markdown",
   "metadata": {},
   "source": [
    "```python\n",
    "import numpy as np\n",
    "import matplotlib.pyplot as plt\n",
    "import seaborn as sns\n",
    "import pandas as pd\n",
    "from sklearn import tree\n",
    "from sklearn.model_selection import train_test_split\n",
    "from sklearn.metrics import accuracy_score\n",
    "from sklearn.externals import joblib\n",
    "```"
   ]
  },
  {
   "cell_type": "markdown",
   "metadata": {},
   "source": [
    "#### Agora é sua vez! importe as bibliotecas necessarias\n"
   ]
  },
  {
   "cell_type": "code",
   "execution_count": null,
   "metadata": {},
   "outputs": [],
   "source": []
  },
  {
   "cell_type": "markdown",
   "metadata": {},
   "source": [
    "## Carregar dados da íris"
   ]
  },
  {
   "cell_type": "markdown",
   "metadata": {},
   "source": [
    "Agora, vamos carregar os dados da íris do conjunto de dados interno do Seaborne e imprimir as primeiras 5 linhas da seguinte forma:"
   ]
  },
  {
   "cell_type": "markdown",
   "metadata": {},
   "source": [
    "```python\n",
    "iris = sns.load_dataset(\"iris\")\n",
    "print(iris.head())\n",
    "\n",
    "#   comprimento da sépala  largura da sépala  comprimento da pétala  espécie da largura da pétala\n",
    "#0           5.1          3.5           1.4          0.2  setosa\n",
    "#1           4.9          3.0           1.4          0.2  setosa\n",
    "#2           4.7          3.2           1.3          0.2  setosa\n",
    "#3           4.6          3.1           1.5          0.2  setosa\n",
    "#4           5.0          3.6           1.4          0.2  setosa\n",
    "```"
   ]
  },
  {
   "cell_type": "markdown",
   "metadata": {},
   "source": [
    "Vamos olhar os dados\n",
    "\n",
    "```python\n",
    "print (iris.shape)\n",
    "\n",
    "#(150, 5)\n",
    "```"
   ]
  },
  {
   "cell_type": "markdown",
   "metadata": {},
   "source": [
    "Temos 150 amostras e 5 recursos, incluindo nosso recurso de segmentação. Podemos imprimir facilmente algumas estatísticas resumidas.\n",
    "\n",
    "```python\n",
    "print(iris.describe())\n",
    "\n",
    "#       comprimento da sépala  largura da sépala  comprimento da pétala  largura da pétala\n",
    "#count    150.000000   150.000000    150.000000   150.000000\n",
    "#mean       5.843333     3.057333      3.758000     1.199333\n",
    "#std        0.828066     0.435866      1.765298     0.762238\n",
    "#min        4.300000     2.000000      1.000000     0.100000\n",
    "#25%        5.100000     2.800000      1.600000     0.300000\n",
    "#50%        5.800000     3.000000      4.350000     1.300000\n",
    "#75%        6.400000     3.300000      5.100000     1.800000\n",
    "#max        7.900000     4.400000      6.900000     2.500000\n",
    "```\n"
   ]
  },
  {
   "cell_type": "markdown",
   "metadata": {},
   "source": [
    "<ul>\n",
    "  <li>Comprimento do sepal</li>\n",
    "  <li>Largura Sépala</li>\n",
    "  <li>Comprimento da Pétala</li>\n",
    "  <li>Largura da Pétala</li>\n",
    "</ul>"
   ]
  },
  {
   "cell_type": "markdown",
   "metadata": {},
   "source": [
    "#### Agora é sua vez! Carregue os dados da Iris,imprima as 5 primeiras linhas,olhes os dados e imprima as características resumidas"
   ]
  },
  {
   "cell_type": "code",
   "execution_count": null,
   "metadata": {},
   "outputs": [],
   "source": []
  },
  {
   "cell_type": "code",
   "execution_count": null,
   "metadata": {},
   "outputs": [],
   "source": []
  },
  {
   "cell_type": "code",
   "execution_count": null,
   "metadata": {},
   "outputs": [],
   "source": []
  },
  {
   "cell_type": "markdown",
   "metadata": {},
   "source": [
    "## Dividir dados em conjuntos de treinamento e teste"
   ]
  },
  {
   "cell_type": "markdown",
   "metadata": {},
   "source": [
    "Dividimos os dados em conjuntos de treinamento e teste no início do fluxo de trabalho de modelagem. O corte é crucial para obter uma estimativa realista do desempenho do modelo.\n",
    "\n",
    "Primeiro, vamos separar nossos recursos de destino de nossos recursos de entrada (X):\n",
    "\n",
    "```python\n",
    "y = iris.species\n",
    "X = iris.drop('species',axis=1)\n",
    "```\n"
   ]
  },
  {
   "cell_type": "markdown",
   "metadata": {},
   "source": [
    "Agora usamos a função Scikit learn train_test_split:\n",
    "\n",
    "```python\n",
    "from sklearn.model_selection import train_test_split\n",
    "X_train, X_test, y_train, y_test = train_test_split(X, y,test_size=0.3,random_state=100,stratify=y)\n",
    "```"
   ]
  },
  {
   "cell_type": "markdown",
   "metadata": {},
   "source": [
    "Vamos separar 30% dos dados como um conjunto de testes para avaliar o modelo. E também definimos um “estado aleatório” arbitrário para que o programa possa reproduzir nossos resultados.\n"
   ]
  },
  {
   "cell_type": "markdown",
   "metadata": {},
   "source": [
    "#### Agora é sua vez! Separe os recursos de destino dos recursos de entrada e use a função Scikit learn train_test_split"
   ]
  },
  {
   "cell_type": "code",
   "execution_count": null,
   "metadata": {},
   "outputs": [],
   "source": []
  },
  {
   "cell_type": "markdown",
   "metadata": {},
   "source": [
    "## Visualização"
   ]
  },
  {
   "cell_type": "markdown",
   "metadata": {},
   "source": [
    "Agora vamos plotar o gráfico para entendermos as caracteristicas e as espécies nos dados.Estamos usando o seaborne e o matplotlib para fazer esses graficos"
   ]
  },
  {
   "cell_type": "markdown",
   "metadata": {},
   "source": [
    "```python\n",
    "sns.set(style=\"ticks\")\n",
    "iris = sns.load_dataset(\"iris\")\n",
    "sns.pairplot(iris, hue=\"species\",palette=\"bright\")\n",
    "plt.show()\n",
    "```\n",
    "<img src=\"Tutoriais/graficos.png\"/>"
   ]
  },
  {
   "cell_type": "markdown",
   "metadata": {},
   "source": [
    "O gráfico acima é um gráfico de dispersão que é traçado entre quatro características da íris em 12 gráficos diferentes. Na foto acima, podemos ver as amostras formadas por clusters de acordo com suas espécies."
   ]
  },
  {
   "cell_type": "markdown",
   "metadata": {},
   "source": [
    "No próximo gráfico, vamos plotar as 4 características de 3 espécies de íris em barplot:"
   ]
  },
  {
   "cell_type": "markdown",
   "metadata": {},
   "source": [
    "```python\n",
    "piris = pd.melt(iris, \"species\", var_name=\"medicao\") sns.factorplot(x=\"medicao\", y=\"valor\", hue=\"species\", data=piris, size=7, kind=\"bar\",palette=\"bright\") plt.show() \n",
    "print(piris.head())\n",
    "\n",
    "#  species   medição  valor\n",
    "#0  setosa  sepal_length    5.1\n",
    "#1  setosa  sepal_length    4.9\n",
    "#2  setosa  sepal_length    4.7\n",
    "#3  setosa  sepal_length    4.6\n",
    "#4  setosa  sepal_length    5.0\n",
    "```\n",
    "<img src=\"Tutoriais/graficos2.png\"/>"
   ]
  },
  {
   "cell_type": "markdown",
   "metadata": {},
   "source": [
    "No código acima, fiz novas variáveis ​​piris para facilitar a visualização. Esta imagem mostra como três espécies de íris diferem com base nas quatro características"
   ]
  },
  {
   "cell_type": "markdown",
   "metadata": {},
   "source": [
    "#### Agora é sua vez! Plote o gráfico e depois plote as 4 caracteristicas de 3 espécies"
   ]
  },
  {
   "cell_type": "code",
   "execution_count": null,
   "metadata": {},
   "outputs": [],
   "source": []
  },
  {
   "cell_type": "code",
   "execution_count": null,
   "metadata": {},
   "outputs": [],
   "source": []
  },
  {
   "cell_type": "markdown",
   "metadata": {},
   "source": [
    "## Árvore de Decisão"
   ]
  },
  {
   "cell_type": "markdown",
   "metadata": {},
   "source": [
    "Algoritmo de árvore de decisão é um algoritmo de aprendizado supervisionado simples que é usado em problemas de regressão e classificação. Vou fazer o classificador Decision Tree e ajustar os dados de treinamento (X_train e y_train) para treinar o modelo"
   ]
  },
  {
   "cell_type": "markdown",
   "metadata": {},
   "source": [
    "```python\n",
    "clf = tree.DecisionTreeClassifier()\n",
    "clf.fit(X_train,y_train)\n",
    "\n",
    "#DecisionTreeClassifier(class_weight=None, criterion='gini', max_depth=None,\n",
    "#            max_features=None, max_leaf_nodes=None,\n",
    "#            min_impurity_split=1e-07, min_samples_leaf=1,\n",
    "#            min_samples_split=2, min_weight_fraction_leaf=0.0,\n",
    "#            presort=False, random_state=None, splitter='best')\n",
    "```\n"
   ]
  },
  {
   "cell_type": "markdown",
   "metadata": {},
   "source": [
    "Depois de ajustar os dados de treinamento, o classificador Decision_tree cria uma árvore usando qual classificador irá classificar as espécies de dados de teste. A Árvore de Decisão pode ser criada como abaixo:"
   ]
  },
  {
   "cell_type": "markdown",
   "metadata": {},
   "source": [
    "```python\n",
    "from sklearn.datasets import load_iris\n",
    "iris=load_iris()\n",
    "tree.export_graphviz(clf,\n",
    "out_file='iris.dot',  feature_names=iris.feature_names, class_names=iris.target_names,filled=True, rounded=True, special_characters=True)\n",
    "```\n"
   ]
  },
  {
   "cell_type": "markdown",
   "metadata": {},
   "source": [
    "Estamos usando o módulo graphviz e dot para criar um arquivo de ponto que pode ser visualizado usando o aplicativo graphviz. A árvore que pegamos está abaixo:\n",
    "\n",
    "<img src=\"Tutoriais/arvoredecisao.png\"/>"
   ]
  },
  {
   "cell_type": "markdown",
   "metadata": {},
   "source": [
    "Usando a árvore acima, o classificador irá classificar nossos dados de teste. Lembre-se de que a árvore acima é formada pelo classificador usando os dados de treinamento.\n"
   ]
  },
  {
   "cell_type": "markdown",
   "metadata": {},
   "source": [
    "#### Agora é sua vez! Faça o classificador Decision Tree e ajuste os dados de treinamento para treinar o modelo e depois crie a Árvore de Decisão"
   ]
  },
  {
   "cell_type": "code",
   "execution_count": null,
   "metadata": {},
   "outputs": [],
   "source": []
  },
  {
   "cell_type": "code",
   "execution_count": null,
   "metadata": {},
   "outputs": [],
   "source": []
  },
  {
   "cell_type": "markdown",
   "metadata": {},
   "source": [
    "## Predição"
   ]
  },
  {
   "cell_type": "markdown",
   "metadata": {},
   "source": [
    "É hora da previsão sobre as espécies dos dados de teste e é o teste do nosso modelo."
   ]
  },
  {
   "cell_type": "markdown",
   "metadata": {},
   "source": [
    "```python\n",
    "y_pred = (clf.predict(X_test))\n",
    "```\n",
    "\n",
    "Passamos os dados do X_test para modelar a previsão do nosso modelo e salvei a previsão como y_pred."
   ]
  },
  {
   "cell_type": "markdown",
   "metadata": {},
   "source": [
    "### Agora é sua vez! Faça a predição do nosso modelo"
   ]
  },
  {
   "cell_type": "code",
   "execution_count": null,
   "metadata": {},
   "outputs": [],
   "source": []
  },
  {
   "cell_type": "markdown",
   "metadata": {},
   "source": [
    "## Verificação de precisão"
   ]
  },
  {
   "cell_type": "markdown",
   "metadata": {},
   "source": [
    "```python\n",
    "print ('Pontuação de precisão');\n",
    "print (accuracy_score(y_test, y_pred)* 100);\n",
    "\n",
    "#Pontuação de precisão\n",
    "#95.5555555556\n",
    "```\n"
   ]
  },
  {
   "cell_type": "markdown",
   "metadata": {},
   "source": [
    "Nossa model obteve precisão de 95,5556 pontos em 100."
   ]
  },
  {
   "cell_type": "markdown",
   "metadata": {},
   "source": [
    "#### Faça a verificação da sua precisão!"
   ]
  },
  {
   "cell_type": "code",
   "execution_count": null,
   "metadata": {},
   "outputs": [],
   "source": []
  },
  {
   "cell_type": "markdown",
   "metadata": {},
   "source": [
    "## Salvar a Model"
   ]
  },
  {
   "cell_type": "markdown",
   "metadata": {},
   "source": [
    "É hora de salvarmos a nossa model para uso futuro e concluir a tarefa.\n",
    "```python\n",
    "joblib.dump(clf, 'iris.pkl')\n",
    "#['iris.pkl']\n",
    "```"
   ]
  },
  {
   "cell_type": "markdown",
   "metadata": {},
   "source": [
    "Podemos carregar esse arquivo .pkl do modo abaixo:\n",
    "```python\n",
    "clf2 = joblib.load('iris.pkl')\n",
    "clf2.predict(X_test)\n",
    "```\n",
    "\n",
    "Depois de carregar a model,podemos usar para prever os dados como nesse tutorial. "
   ]
  },
  {
   "cell_type": "markdown",
   "metadata": {},
   "source": [
    "#### Salve o seu modelo!"
   ]
  },
  {
   "cell_type": "code",
   "execution_count": null,
   "metadata": {},
   "outputs": [],
   "source": []
  }
 ],
 "metadata": {
  "kernelspec": {
   "display_name": "Python 3",
   "language": "python",
   "name": "python3"
  },
  "language_info": {
   "codemirror_mode": {
    "name": "ipython",
    "version": 3
   },
   "file_extension": ".py",
   "mimetype": "text/x-python",
   "name": "python",
   "nbconvert_exporter": "python",
   "pygments_lexer": "ipython3",
   "version": "3.7.3"
  }
 },
 "nbformat": 4,
 "nbformat_minor": 2
}
