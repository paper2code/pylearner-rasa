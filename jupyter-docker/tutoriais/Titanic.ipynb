{
 "cells": [
  {
   "cell_type": "markdown",
   "metadata": {},
   "source": [
    "# Tutorial Titanic"
   ]
  },
  {
   "cell_type": "markdown",
   "metadata": {},
   "source": [
    "Neste tutorial, aprenderemos conceitos de Machine learning usando o ScikitLearn e um conjunto de dados dos passageiros do RMS Titanic para fazermos um algoritmo, onde analisando fatores como a classe do passageiro, seu sexo e idade, possa prever quais passageiros sobreviveriam ao desastre."
   ]
  },
  {
   "cell_type": "markdown",
   "metadata": {},
   "source": [
    "# Importação das bibliotecas e módulos"
   ]
  },
  {
   "cell_type": "markdown",
   "metadata": {},
   "source": [
    "Primeiramente importaremos nossas bibliotecas que usaremos neste tutorial:"
   ]
  },
  {
   "cell_type": "markdown",
   "metadata": {},
   "source": [
    "<b>Numpy</b>: para computação numérica<br>\n",
    "<b>Pandas</b>: para processamento dos dados<br>\n",
    "<b>Seaborn e Matplotlib</b>: para visualização dos dados"
   ]
  },
  {
   "cell_type": "markdown",
   "metadata": {},
   "source": [
    "```python\n",
    "import numpy as np\n",
    "import pandas as pd\n",
    "import matplotlib.pyplot as plt\n",
    "import seaborn as sns\n",
    "%matplotlib inline\n",
    "```"
   ]
  },
  {
   "cell_type": "markdown",
   "metadata": {},
   "source": [
    "#### Agora é sua vez! Importe as bibliotecas necessárias"
   ]
  },
  {
   "cell_type": "code",
   "execution_count": null,
   "metadata": {},
   "outputs": [],
   "source": []
  },
  {
   "cell_type": "markdown",
   "metadata": {},
   "source": [
    "# Carregando dados dos passageiros"
   ]
  },
  {
   "cell_type": "markdown",
   "metadata": {},
   "source": [
    "Agora, vamos carregar os dados dos nossos passageiros a partir de um .csv, usando o pandas, e imprimir as 5 primeiras linhas do conjunto de treinamento. Nós vamos usar esses dados para treinar e testar nosso modelo. "
   ]
  },
  {
   "cell_type": "markdown",
   "metadata": {},
   "source": [
    "```Python\n",
    "train = pd.read_csv(\"./input/trainTitanic.csv\")\n",
    "test = pd.read_csv(\"./input/testTitanic.csv\")\n",
    "print(train.head(5))\n",
    "#PassangerId Survived Pclass     Name                         Sex      Age  Ticket       Cabin     Embarked\n",
    "# 1            0         3       Braund, Mr. Owen Harris      male     22.0 A/5 21171    NaN         S\n",
    "# 2            1         1       Cumings, Mrs. John Bradley   female   38.0 PC 17599     C85         C\n",
    "# 3            1         3       Heikkinen, Miss. Laina       female   26.0 STON/O2.3101282 NaN      S\n",
    "# 4            1         1       Futrelle, Mrs. Jacques Heath female   35.0 113803        C123       S\n",
    "# 5            0         3       Allen, Mr. William Henry     male     35.0 373450        NaN        S\n",
    "```"
   ]
  },
  {
   "cell_type": "markdown",
   "metadata": {},
   "source": [
    "Podemos também olhar como estão nossos dados\n",
    "```Python\n",
    "print(train.shape)\n",
    "# (891, 12)\n",
    "```"
   ]
  },
  {
   "cell_type": "markdown",
   "metadata": {},
   "source": [
    "Temos 891 amostras e 12 recursos(891 linhas, e 12 colunas no nosso array)"
   ]
  },
  {
   "cell_type": "markdown",
   "metadata": {},
   "source": [
    "#### <b>Agora é a sua vez! Carregue os dados de treinamento e teste dos passageiros do RMS Titanic, depois imprima na tela as 5 primeiras linhas do dataset train</b>"
   ]
  },
  {
   "cell_type": "code",
   "execution_count": null,
   "metadata": {},
   "outputs": [],
   "source": []
  },
  {
   "cell_type": "code",
   "execution_count": null,
   "metadata": {},
   "outputs": [],
   "source": []
  },
  {
   "cell_type": "markdown",
   "metadata": {},
   "source": [
    "# Pré-processamento de dados"
   ]
  },
  {
   "cell_type": "markdown",
   "metadata": {},
   "source": [
    "Agora vamos importar do sklearn o preprocessing, para podermos separar e interpretar melhor os dados que obtemos dos csv. <br> \n",
    "Vamos começar separando os recursos que queremos usar(Fare, Cabin, Age, Sex, Lname(Last name) e NamePrefix) e aplicando novos nomes(labels) a estes recursos."
   ]
  },
  {
   "cell_type": "markdown",
   "metadata": {},
   "source": [
    "```Python\n",
    "from sklearn import preprocessing\n",
    "\n",
    "    def encode_features(df_train, df_test):\n",
    "        features = [\"Fare\", \"Cabin\", \"Age\", \"Sex\", \"Lname\", \"NamePrefix\"]\n",
    "        df_combined = pd.concat([df_train[features], df_test[features]])\n",
    "    \n",
    "        for feature in features:\n",
    "            le = preprocessing.LabelEnconder()\n",
    "            le = le.fit(df_combined[feature])\n",
    "            df_train[feature] = le.transform(df_train[feature])\n",
    "            df_test[feature] = le.transform(df_test[feature])\n",
    "            return df_train, df_test\n",
    "```"
   ]
  },
  {
   "cell_type": "markdown",
   "metadata": {},
   "source": [
    "Agora iremos simplificar os dados que queremos usar:"
   ]
  },
  {
   "cell_type": "markdown",
   "metadata": {},
   "source": [
    "```Python\n",
    "    def simplify_ages(df): # guardando idades e definindo em grupos\n",
    "        bins = (-1, 0, 5, 12, 18, 25, 35, 60, 120)\n",
    "        group_names = ['Unknow', 'Baby', 'Child', 'Teenager', 'Student', 'Young Adult', 'Adult', 'Senior']\n",
    "        categories = pd.cut(df.Age, bins, labels = group_names)\n",
    "        df.Age = categories\n",
    "        return df\n",
    "    \n",
    "    def simplify_cabins(df): # guardando a primeira letra das cabines\n",
    "        df.Cabin = df.Cabin.fillna('N')\n",
    "        df.Cabin = df.Cabin.apply(lambda x: x[0])\n",
    "        return df\n",
    "    \n",
    "    def simplify_fares(df): # guardando tarifas e definindo em grupos\n",
    "        df.Fare = df.Fare.fillna(-0.5)\n",
    "        bins = (-1, 0, 8, 15, 31, 1000)\n",
    "        group_names = ['Unknow', '1_quartile', '2_quartile', '3_quartile', '4_quartile']\n",
    "        categories = pd.cut(df.Fare, bins, labels = group_names)\n",
    "        df.Fare = categories\n",
    "        return df\n",
    "    \n",
    "    def format_name(df): # mantendo o prefixo do nome (ex: Mr ou Mrs)\n",
    "        df['Lname'] = df.Name.apply(lambda x: x.split(' ')[0])\n",
    "        df['NamePrefix'] = df.Name.apply(lambda x: x.split(' ')[1])\n",
    "        return df\n",
    "    \n",
    "    def drop_features(df): # removendo os recursos desnecessário\n",
    "        return df.drop(['Ticket', 'Name', 'Embarked'], axis = 1)\n",
    "    \n",
    "    def transform_features(df):\n",
    "        df = simplify_ages(df)\n",
    "        df = simplify_cabins(df)\n",
    "        df = simplify_fares(df)\n",
    "        df = format_name(df)\n",
    "        df = drop_features(df)\n",
    "        return df\n",
    "```"
   ]
  },
  {
   "cell_type": "markdown",
   "metadata": {},
   "source": [
    "Agora vamos aplicar nossas funções nos nossos conjuntos de dados train e test, e depois fazer a visualização"
   ]
  },
  {
   "cell_type": "markdown",
   "metadata": {},
   "source": [
    "```Python\n",
    "    train = transform_features(train)\n",
    "    test = transform_features(test)\n",
    "    train_vis = train.copy(deep = True) # dados para visualização\n",
    "    train, test = encode_features(train, test)\n",
    "    train.head()\n",
    "    #PassangerId Survived Pclass  Sex      Age         SibSp Parch  Fare        Cabin Lname     NamePrefix\n",
    "    # 1            0         3    male     Student     1     0      1_quartile  N     Braund,    Mr.\n",
    "    # 2            1         1    female   Adult    PC 1     0      4_quartile  C     Cumings,   Mrs.\n",
    "    # 3            1         3    female   Young Adult 0     0      1_quartile  N     Heikkinen, Miss.\n",
    "    # 4            1         1    female   Young Adult 1     0      4_quartile  C     Futrelle,  Mrs.\n",
    "    # 5            0         3    male     Young Adult 0     0      2_quartile  N     Allen,     Mr.\n",
    " ```"
   ]
  },
  {
   "cell_type": "markdown",
   "metadata": {},
   "source": [
    "#### Agora é a sua vez de fazer o pré-processamento dos dados! Qualquer dúvida, pergunte ao Pyter, o nosso chatbot voltado para tirar suas dúvidas sobre Machine Learning!"
   ]
  },
  {
   "cell_type": "code",
   "execution_count": null,
   "metadata": {},
   "outputs": [],
   "source": []
  },
  {
   "cell_type": "code",
   "execution_count": null,
   "metadata": {},
   "outputs": [],
   "source": []
  },
  {
   "cell_type": "code",
   "execution_count": null,
   "metadata": {},
   "outputs": [],
   "source": []
  },
  {
   "cell_type": "markdown",
   "metadata": {},
   "source": [
    "# Visualização de dados"
   ]
  },
  {
   "cell_type": "markdown",
   "metadata": {},
   "source": [
    "Vamos plotar um gráfico em barras para visualização, de Sex(X) por Survived(Y), usando a o Seaborn e o conjunto de dados para visulização que fizemos anteriormente"
   ]
  },
  {
   "attachments": {},
   "cell_type": "markdown",
   "metadata": {},
   "source": [
    "```Python\n",
    "    sns.barplot(x = \"Sex\", y = \"Survived\", data = train_vis)\n",
    "    \n",
    "    \n",
    "```\n",
    "![image.png](attachment:image.png)"
   ]
  },
  {
   "cell_type": "markdown",
   "metadata": {},
   "source": [
    "Agora vamos plotar um gráfico em pontos, de Pclass(X) por Survived(Y), com uma matiz Sex, usando o mesmo conjunto de dados de treinamento:"
   ]
  },
  {
   "attachments": {},
   "cell_type": "markdown",
   "metadata": {},
   "source": [
    "```Python\n",
    "    sns.pointplot(x = \"Pclass\", y = \"Survived\", hue = \"Sex\", data = train_vis)\n",
    "```\n",
    "![image.png](attachment:image.png)"
   ]
  },
  {
   "cell_type": "markdown",
   "metadata": {},
   "source": [
    "Vamos plotar outro gráfico em barras, agora de Age(X) por Survived(Y):"
   ]
  },
  {
   "attachments": {},
   "cell_type": "markdown",
   "metadata": {},
   "source": [
    "```Python\n",
    "    sns.barplot(x = \"Age\", y = \"Survived\", hue = \"Sex\", data = train_vis)\n",
    "```\n",
    "![image.png](attachment:image.png)"
   ]
  },
  {
   "cell_type": "markdown",
   "metadata": {},
   "source": [
    "E para uma última visualização, vamos plotar outro gráfico em barras de Pclass(X) por Survived(Y), mas agora usando a matiz em Fare:"
   ]
  },
  {
   "attachments": {},
   "cell_type": "markdown",
   "metadata": {},
   "source": [
    "```Python\n",
    "    sns.barplot(x = \"Pclass\", y = \"Survived\", hue = \"Fare\", data = train_vis)\n",
    "```\n",
    "![image.png](attachment:image.png)"
   ]
  },
  {
   "cell_type": "markdown",
   "metadata": {},
   "source": [
    "#### Agora tente plotar os 4 gráficos mostrados para aprender visualização de dados!"
   ]
  },
  {
   "cell_type": "code",
   "execution_count": null,
   "metadata": {},
   "outputs": [],
   "source": []
  },
  {
   "cell_type": "code",
   "execution_count": null,
   "metadata": {},
   "outputs": [],
   "source": []
  },
  {
   "cell_type": "code",
   "execution_count": null,
   "metadata": {},
   "outputs": [],
   "source": []
  },
  {
   "cell_type": "code",
   "execution_count": null,
   "metadata": {},
   "outputs": [],
   "source": []
  },
  {
   "cell_type": "markdown",
   "metadata": {},
   "source": [
    "# Preparando dados de treinamento e teste"
   ]
  },
  {
   "cell_type": "markdown",
   "metadata": {},
   "source": [
    "Vamos agora usar o sklearn para preparar nossos dados de treinamento e dados de teste:"
   ]
  },
  {
   "cell_type": "markdown",
   "metadata": {},
   "source": [
    "```Python\n",
    "    from sklearn.model_selection import train_test_split\n",
    "    \n",
    "    X_all = train.drop(['Survived', 'PassangerId'], axis = 1)\n",
    "    Y_all = train['Survived']\n",
    "    \n",
    "    num_test = 0.20\n",
    "    X_train, X_test, Y_train, Y_test = train_test_split(X_all, Y_all, test_size = num_test, random_state = 23)\n",
    "```"
   ]
  },
  {
   "cell_type": "markdown",
   "metadata": {},
   "source": [
    "#### Agora é sua vez de preparar os dados de treinamento e teste!"
   ]
  },
  {
   "cell_type": "code",
   "execution_count": null,
   "metadata": {},
   "outputs": [],
   "source": []
  },
  {
   "cell_type": "markdown",
   "metadata": {},
   "source": [
    "# Definindo e incrementando um algoritmo"
   ]
  },
  {
   "cell_type": "markdown",
   "metadata": {},
   "source": [
    "Agora é o momento de definirmos o algoritmo com o sklearn e fazer algumas escolhas como o classificador, as combinações de parâmetros, o tipo de scoring usado para comparar as combinações de parâmetros e o melhor algoritmo para os dados:  "
   ]
  },
  {
   "cell_type": "markdown",
   "metadata": {},
   "source": [
    "```Python\n",
    "    from sklearn.ensemble import RandomForestClassifier\n",
    "    from sklearn.metrics import make_scorer, accuracy_score\n",
    "    from sklearn.model_selection import GridSearchCV\n",
    "\n",
    "    # escolhendo o melhor classificador \n",
    "    clf = RandomForestClassifier()\n",
    "\n",
    "    # escolhendo as combinações de parâmetros\n",
    "    parameters = {'n_estimators': [4, 6, 9], \n",
    "                  'max_features': ['log2', 'sqrt','auto'], \n",
    "                  'criterion': ['entropy', 'gini'],\n",
    "                  'max_depth': [2, 3, 5, 10], \n",
    "                  'min_samples_split': [2, 3, 5],\n",
    "                  'min_samples_leaf': [1,5,8]\n",
    "                 }\n",
    "\n",
    "    # tipo de scoring usado para comparar as combinações de parâmetros\n",
    "    acc_scorer = make_scorer(accuracy_score)\n",
    "\n",
    "    # fazendo a pesquisa no grid\n",
    "    grid_obj = GridSearchCV(clf, parameters, scoring=acc_scorer)\n",
    "    grid_obj = grid_obj.fit(X_train, y_train)\n",
    "\n",
    "    # setar o classificador para a melhor combinação de parâmetros\n",
    "    clf = grid_obj.best_estimator_\n",
    "\n",
    "    # ajustar o melhor algoritmo para os dados \n",
    "    clf.fit(X_train, y_train)\n",
    "    \n",
    "    # RandomForestClassifier(bootstrap=True, class_weight=None, criterion='entropy',\n",
    "    #        max_depth=5, max_features='sqrt', max_leaf_nodes=None,\n",
    "    #        min_impurity_decrease=0.0, min_impurity_split=None,\n",
    "    #        min_samples_leaf=1, min_samples_split=2,\n",
    "    #        min_weight_fraction_leaf=0.0, n_estimators=9, n_jobs=1,\n",
    "    #        oob_score=False, random_state=None, verbose=0,\n",
    "    #        warm_start=False)\n",
    "```"
   ]
  },
  {
   "cell_type": "markdown",
   "metadata": {},
   "source": [
    "Agora vamos ver como está a precisão do nosso algoritmo: "
   ]
  },
  {
   "cell_type": "markdown",
   "metadata": {},
   "source": [
    "```Python\n",
    "    predictions = clf.predict(X_test)\n",
    "    print(accuracy_score(Y_test, predictions))\n",
    "  \n",
    "    #0.810055865922\n",
    "```"
   ]
  },
  {
   "cell_type": "markdown",
   "metadata": {},
   "source": [
    "#### Agora é sua vez de trabalhar no algoritmo! Lembre-se de que qualquer dúvida que tiver, o Pyter poderá responder para você."
   ]
  },
  {
   "cell_type": "code",
   "execution_count": null,
   "metadata": {},
   "outputs": [],
   "source": []
  },
  {
   "cell_type": "code",
   "execution_count": null,
   "metadata": {},
   "outputs": [],
   "source": []
  },
  {
   "cell_type": "markdown",
   "metadata": {},
   "source": [
    "# Validação com K-fold"
   ]
  },
  {
   "cell_type": "markdown",
   "metadata": {},
   "source": [
    "Agora vamos validar nosso modelo usando o K-fold:"
   ]
  },
  {
   "cell_type": "markdown",
   "metadata": {},
   "source": [
    "```Python\n",
    "    from sklearn.cross_validation import KFold\n",
    "\n",
    "    def run_kfold(clf):\n",
    "        kf = KFold(891, n_folds=10)\n",
    "        outcomes = []\n",
    "        fold = 0\n",
    "        for train_index, test_index in kf:\n",
    "            fold += 1\n",
    "            X_train, X_test = X_all.values[train_index], X_all.values[test_index]\n",
    "            y_train, y_test = y_all.values[train_index], y_all.values[test_index]\n",
    "            clf.fit(X_train, y_train)\n",
    "            predictions = clf.predict(X_test)\n",
    "            accuracy = accuracy_score(y_test, predictions)\n",
    "            outcomes.append(accuracy)\n",
    "            print(\"Fold {0} accuracy: {1}\".format(fold, accuracy))     \n",
    "        mean_outcome = np.mean(outcomes)\n",
    "        print(\"Mean Accuracy: {0}\".format(mean_outcome)) \n",
    "\n",
    "    run_kfold(clf)\n",
    "    \n",
    "    #Fold 1 accuracy: 0.7444444444444445\n",
    "    #Fold 2 accuracy: 0.8651685393258427\n",
    "    #Fold 3 accuracy: 0.7752808988764045\n",
    "    #Fold 4 accuracy: 0.8539325842696629\n",
    "    #Fold 5 accuracy: 0.8539325842696629\n",
    "    #Fold 6 accuracy: 0.8089887640449438\n",
    "    #Fold 7 accuracy: 0.7865168539325843\n",
    "    #Fold 8 accuracy: 0.7865168539325843\n",
    "    #Fold 9 accuracy: 0.8539325842696629\n",
    "    #Fold 10 accuracy: 0.8202247191011236\n",
    "    #Mean Accuracy: 0.8148938826466917\n",
    "```"
   ]
  },
  {
   "cell_type": "markdown",
   "metadata": {},
   "source": [
    "#### Agora é sua vez de validar o modelo, tente calcular a precisão!"
   ]
  },
  {
   "cell_type": "code",
   "execution_count": null,
   "metadata": {},
   "outputs": [],
   "source": []
  },
  {
   "cell_type": "markdown",
   "metadata": {},
   "source": [
    "# Prever usando os dados de teste"
   ]
  },
  {
   "cell_type": "markdown",
   "metadata": {},
   "source": [
    "Chegou o momento de usarmos tudo que fizemos até agora para prever quais passageiros sobreviveram, usando o conjunto de dados teste:"
   ]
  },
  {
   "cell_type": "markdown",
   "metadata": {},
   "source": [
    "```Python\n",
    "    ids = test['PassengerId']\n",
    "    predictions = clf.predict(test.drop('PassengerId', axis=1))\n",
    "\n",
    "\n",
    "    output = pd.DataFrame({ 'PassengerId' : ids, 'Survived': predictions })\n",
    "    output.to_csv('titanic-predictions.csv', index = False)\n",
    "    output.head()\n",
    "    \n",
    "    # PassangerId   Survived\n",
    "    #   892            0\n",
    "    #   893            0\n",
    "    #   894            0\n",
    "    #   895            0\n",
    "    #   896            1\n",
    "    \n",
    "```"
   ]
  },
  {
   "cell_type": "markdown",
   "metadata": {},
   "source": [
    "#### Agora é a sua vez de prever usando o conjunto de dados teste! "
   ]
  },
  {
   "cell_type": "code",
   "execution_count": null,
   "metadata": {},
   "outputs": [],
   "source": []
  }
 ],
 "metadata": {
  "kernelspec": {
   "display_name": "Python 3",
   "language": "python",
   "name": "python3"
  },
  "language_info": {
   "codemirror_mode": {
    "name": "ipython",
    "version": 2
   },
   "file_extension": ".py",
   "mimetype": "text/x-python",
   "name": "python",
   "nbconvert_exporter": "python",
   "pygments_lexer": "ipython2",
   "version": "2.7.15rc1"
  }
 },
 "nbformat": 4,
 "nbformat_minor": 2
}
